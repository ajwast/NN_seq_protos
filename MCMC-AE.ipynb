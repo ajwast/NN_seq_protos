{
 "cells": [
  {
   "cell_type": "code",
   "execution_count": 1,
   "id": "302f56b4",
   "metadata": {},
   "outputs": [
    {
     "name": "stderr",
     "output_type": "stream",
     "text": [
      "2024-11-02 15:13:47.711041: I tensorflow/core/platform/cpu_feature_guard.cc:210] This TensorFlow binary is optimized to use available CPU instructions in performance-critical operations.\n",
      "To enable the following instructions: AVX2 FMA, in other operations, rebuild TensorFlow with the appropriate compiler flags.\n",
      "Matplotlib is building the font cache; this may take a moment.\n"
     ]
    }
   ],
   "source": [
    "import numpy as np\n",
    "import tensorflow as tf\n",
    "from tensorflow.keras import layers, Model\n",
    "from tensorflow.keras.optimizers import Adam\n",
    "import matplotlib.pyplot as plt"
   ]
  },
  {
   "cell_type": "code",
   "execution_count": 2,
   "id": "73524a5c",
   "metadata": {},
   "outputs": [
    {
     "name": "stdout",
     "output_type": "stream",
     "text": [
      "(112, 32)\n"
     ]
    }
   ],
   "source": [
    "#Load dataset from csv file\n",
    "dataset = np.loadtxt('dataset.csv', delimiter=',')\n",
    "print(dataset.shape)"
   ]
  },
  {
   "cell_type": "markdown",
   "id": "85f79985",
   "metadata": {},
   "source": [
    "### 1. The EM Algorithm\n",
    "EM Algorithm Overview:\n",
    "\n",
    "E-step: Compute the expected value of the log-likelihood function, given the current estimate of the parameters.\n",
    "\n",
    "M-step: Update the model parameters by maximizing the expected log-likelihood obtained in the E-step.\n",
    "\n",
    "### 2. Markov Chain Monte Carlo (MCMC)\n",
    "MCMC Overview:\n",
    "\n",
    "Purpose: Approximate complex probability distributions by constructing a Markov chain.\n",
    "\n",
    "Method: Generate samples from a proposal distribution and accept/reject them based on an acceptance criterion.\n",
    "\n",
    "### 3. MCMC-EM in Autoencoders\n",
    "MCMC-EM Overview:\n",
    "\n",
    "Integration: Use MCMC sampling within the EM algorithm to perform Bayesian inference and find the posterior distribution over model parameters.\n",
    "\n",
    "Steps:\n",
    "- Prior Distribution: Define a prior over the model parameters.\n",
    "- Likelihood Function: Define the likelihood of data given latent variables and model parameters.\n",
    "- Posterior Distribution: Define the posterior distribution of latent variables given data and model parameters.\n",
    "\n",
    "Steps of MCMC-EM in Autoencoders:\n",
    "\n",
    "- Initialization: Initialize model parameters and latent variables.\n",
    "- E-step: Sample latent variables from the posterior distribution using MCMC.\n",
    "- M-step: Update model parameters using the expected values from the E-step.\n",
    "- Repeat: Continue until convergence.\n",
    "\n",
    "### Steps in mcmc_em:\n",
    "\n",
    "- Initialization: Parameters are initialized when the autoencoder is created, and latent variables are initialized in the E-step.\n",
    "\n",
    "- E-step: Uses mcmc_sampling to sample latent variables from the posterior.\n",
    "\n",
    "- M-step: Updates model parameters by minimizing the reconstruction loss (binary cross-entropy) using the sampled latent variables.\n",
    "\n",
    "### Summary\n",
    "The provided implementation:\n",
    "\n",
    "- Initializes model parameters and latent variables.\n",
    "- Uses MCMC sampling to generate latent variable samples (E-step).\n",
    "- Updates the model parameters by minimizing the reconstruction loss using the sampled latent variables (M-step).\n",
    "- Repeats the E-step and M-step until convergence.\n",
    "- This aligns with the EM algorithm and MCMC principles described in your text, integrating them into an autoencoder framework to perform Bayesian inference and parameter estimation."
   ]
  },
  {
   "cell_type": "code",
   "execution_count": 4,
   "id": "a3ec4e63",
   "metadata": {},
   "outputs": [],
   "source": [
    "\n",
    "\n",
    "def plot_loss(losses):\n",
    "    \"\"\"\n",
    "    Plots the loss over epochs.\n",
    "\n",
    "    Parameters:\n",
    "    losses (list of float): List of loss values recorded at each epoch.\n",
    "    \"\"\"\n",
    "    plt.figure(figsize=(10, 6))\n",
    "    plt.plot(range(1, len(losses) + 1), losses, marker='o', linestyle='-', color='b')\n",
    "    plt.title('Loss over Epochs')\n",
    "    plt.xlabel('Epoch')\n",
    "    plt.ylabel('Loss')\n",
    "    plt.grid(True)\n",
    "    plt.show()\n",
    "\n",
    "# Define the encoder\n",
    "class Encoder(Model):\n",
    "    def __init__(self, input_dim, hidden_dim, latent_dim):\n",
    "        super(Encoder, self).__init__()\n",
    "        self.fc1 = layers.Dense(hidden_dim, activation='relu')\n",
    "        self.fc2 = layers.Dense(latent_dim)\n",
    "\n",
    "    def call(self, x):\n",
    "        h = self.fc1(x)\n",
    "        return self.fc2(h)\n",
    "\n",
    "# Define the decoder\n",
    "class Decoder(Model):\n",
    "    def __init__(self, latent_dim, hidden_dim, output_dim):\n",
    "        super(Decoder, self).__init__()\n",
    "        self.fc1 = layers.Dense(hidden_dim, activation='relu')\n",
    "        self.fc2 = layers.Dense(output_dim, activation='sigmoid')\n",
    "\n",
    "    def call(self, z):\n",
    "        h = self.fc1(z)\n",
    "        return self.fc2(h)\n",
    "\n",
    "# Define the autoencoder model\n",
    "class Autoencoder(Model):\n",
    "    def __init__(self, input_dim, hidden_dim, latent_dim):\n",
    "        super(Autoencoder, self).__init__()\n",
    "        self.encoder = Encoder(input_dim, hidden_dim, latent_dim)\n",
    "        self.decoder = Decoder(latent_dim, hidden_dim, input_dim)\n",
    "\n",
    "    def call(self, x):\n",
    "        z = self.encoder(x)\n",
    "        return self.decoder(z), z\n",
    "\n",
    "# Function to run MCMC (simplified)\n",
    "def mcmc_sampling(z_init, decoder, num_samples=1000):\n",
    "    z_current = z_init\n",
    "    samples = [z_current]\n",
    "    for _ in range(num_samples):\n",
    "        z_proposal = z_current + tf.random.normal(tf.shape(z_current), mean=0.0, stddev=0.1)  # Random walk proposal\n",
    "        p_current = tf.reduce_mean(decoder(z_current))\n",
    "        p_proposal = tf.reduce_mean(decoder(z_proposal))\n",
    "        acceptance_ratio = tf.exp(p_proposal - p_current)\n",
    "        if tf.random.uniform([]) < acceptance_ratio:\n",
    "            z_current = z_proposal\n",
    "        samples.append(z_current)\n",
    "    return tf.stack(samples)\n",
    "\n",
    "# Define the MCMC-EM procedure\n",
    "def mcmc_em(autoencoder, data, num_epochs=10, mcmc_samples=100):\n",
    "    optimizer = Adam(learning_rate=1e-3)\n",
    "    losses = []\n",
    "    for epoch in range(num_epochs):\n",
    "        for x in data:\n",
    "            x = tf.reshape(x, [-1, input_dim])\n",
    "            \n",
    "            with tf.GradientTape() as tape:\n",
    "                # E-Step: MCMC sampling\n",
    "                _, z_init = autoencoder(x)\n",
    "                z_samples = mcmc_sampling(z_init, autoencoder.decoder, num_samples=mcmc_samples)\n",
    "                \n",
    "                # M-Step: Parameter update\n",
    "                recon_x = autoencoder.decoder(tf.reduce_mean(z_samples, axis=0))  # Use mean of samples\n",
    "                loss = tf.reduce_sum(tf.keras.losses.binary_crossentropy(x, recon_x))\n",
    "            \n",
    "            gradients = tape.gradient(loss, autoencoder.trainable_variables)\n",
    "            optimizer.apply_gradients(zip(gradients, autoencoder.trainable_variables))\n",
    "            \n",
    "        losses.append(loss.numpy())  # Record the loss for this epoch\n",
    "        print(f'Epoch {epoch}, Loss: {loss.numpy()}')\n",
    "    plot_loss(losses)\n",
    "\n",
    "# Dummy data loader (replace with actual data loader)\n",
    "# Assuming `train_loader` provides batches of data (x)\n",
    "(input_dim, hidden_dim, latent_dim) = (32, 16, 4)\n",
    "autoencoder = Autoencoder(input_dim, hidden_dim, latent_dim)\n",
    "\n",
    "# # Create a dummy dataset (replace with actual dataset)\n",
    "# (train_data, _), _ = tf.keras.datasets.mnist.load_data()\n",
    "# train_data = train_data / 255.0\n",
    "# train_data = train_data.reshape(-1, 784)\n",
    "train_data = dataset\n",
    "train_loader = tf.data.Dataset.from_tensor_slices(train_data).batch(128)\n",
    "\n",
    "\n"
   ]
  },
  {
   "cell_type": "code",
   "execution_count": 5,
   "id": "b21ffa5a",
   "metadata": {},
   "outputs": [
    {
     "name": "stdout",
     "output_type": "stream",
     "text": [
      "<_BatchDataset element_spec=TensorSpec(shape=(None, 32), dtype=tf.float64, name=None)>\n"
     ]
    }
   ],
   "source": [
    "print(train_loader)"
   ]
  },
  {
   "cell_type": "code",
   "execution_count": 6,
   "id": "7a456fe6",
   "metadata": {},
   "outputs": [
    {
     "name": "stderr",
     "output_type": "stream",
     "text": [
      "2024-11-02 15:14:23.465543: W tensorflow/core/framework/local_rendezvous.cc:404] Local rendezvous is aborting with status: OUT_OF_RANGE: End of sequence\n"
     ]
    },
    {
     "name": "stdout",
     "output_type": "stream",
     "text": [
      "Epoch 0, Loss: 79.3606948852539\n"
     ]
    },
    {
     "name": "stderr",
     "output_type": "stream",
     "text": [
      "2024-11-02 15:14:24.062869: W tensorflow/core/framework/local_rendezvous.cc:404] Local rendezvous is aborting with status: OUT_OF_RANGE: End of sequence\n"
     ]
    },
    {
     "name": "stdout",
     "output_type": "stream",
     "text": [
      "Epoch 1, Loss: 79.11357879638672\n"
     ]
    },
    {
     "name": "stderr",
     "output_type": "stream",
     "text": [
      "2024-11-02 15:14:24.605200: W tensorflow/core/framework/local_rendezvous.cc:404] Local rendezvous is aborting with status: OUT_OF_RANGE: End of sequence\n"
     ]
    },
    {
     "name": "stdout",
     "output_type": "stream",
     "text": [
      "Epoch 2, Loss: 79.03325653076172\n"
     ]
    },
    {
     "name": "stderr",
     "output_type": "stream",
     "text": [
      "2024-11-02 15:14:25.312333: W tensorflow/core/framework/local_rendezvous.cc:404] Local rendezvous is aborting with status: OUT_OF_RANGE: End of sequence\n"
     ]
    },
    {
     "name": "stdout",
     "output_type": "stream",
     "text": [
      "Epoch 3, Loss: 78.58389282226562\n"
     ]
    },
    {
     "name": "stderr",
     "output_type": "stream",
     "text": [
      "2024-11-02 15:14:25.794741: W tensorflow/core/framework/local_rendezvous.cc:404] Local rendezvous is aborting with status: OUT_OF_RANGE: End of sequence\n"
     ]
    },
    {
     "name": "stdout",
     "output_type": "stream",
     "text": [
      "Epoch 4, Loss: 78.71292114257812\n"
     ]
    },
    {
     "name": "stderr",
     "output_type": "stream",
     "text": [
      "2024-11-02 15:14:26.306561: W tensorflow/core/framework/local_rendezvous.cc:404] Local rendezvous is aborting with status: OUT_OF_RANGE: End of sequence\n"
     ]
    },
    {
     "name": "stdout",
     "output_type": "stream",
     "text": [
      "Epoch 5, Loss: 78.80874633789062\n"
     ]
    },
    {
     "name": "stderr",
     "output_type": "stream",
     "text": [
      "2024-11-02 15:14:26.810979: W tensorflow/core/framework/local_rendezvous.cc:404] Local rendezvous is aborting with status: OUT_OF_RANGE: End of sequence\n"
     ]
    },
    {
     "name": "stdout",
     "output_type": "stream",
     "text": [
      "Epoch 6, Loss: 78.437744140625\n"
     ]
    },
    {
     "name": "stderr",
     "output_type": "stream",
     "text": [
      "2024-11-02 15:14:27.290487: W tensorflow/core/framework/local_rendezvous.cc:404] Local rendezvous is aborting with status: OUT_OF_RANGE: End of sequence\n"
     ]
    },
    {
     "name": "stdout",
     "output_type": "stream",
     "text": [
      "Epoch 7, Loss: 78.21369934082031\n"
     ]
    },
    {
     "name": "stderr",
     "output_type": "stream",
     "text": [
      "2024-11-02 15:14:27.844098: W tensorflow/core/framework/local_rendezvous.cc:404] Local rendezvous is aborting with status: OUT_OF_RANGE: End of sequence\n"
     ]
    },
    {
     "name": "stdout",
     "output_type": "stream",
     "text": [
      "Epoch 8, Loss: 78.23460388183594\n"
     ]
    },
    {
     "name": "stderr",
     "output_type": "stream",
     "text": [
      "2024-11-02 15:14:28.359563: W tensorflow/core/framework/local_rendezvous.cc:404] Local rendezvous is aborting with status: OUT_OF_RANGE: End of sequence\n"
     ]
    },
    {
     "name": "stdout",
     "output_type": "stream",
     "text": [
      "Epoch 9, Loss: 78.13128662109375\n"
     ]
    },
    {
     "name": "stderr",
     "output_type": "stream",
     "text": [
      "2024-11-02 15:14:28.836296: W tensorflow/core/framework/local_rendezvous.cc:404] Local rendezvous is aborting with status: OUT_OF_RANGE: End of sequence\n"
     ]
    },
    {
     "name": "stdout",
     "output_type": "stream",
     "text": [
      "Epoch 10, Loss: 77.9149169921875\n"
     ]
    },
    {
     "name": "stderr",
     "output_type": "stream",
     "text": [
      "2024-11-02 15:14:29.320392: W tensorflow/core/framework/local_rendezvous.cc:404] Local rendezvous is aborting with status: OUT_OF_RANGE: End of sequence\n"
     ]
    },
    {
     "name": "stdout",
     "output_type": "stream",
     "text": [
      "Epoch 11, Loss: 77.92263793945312\n"
     ]
    },
    {
     "name": "stderr",
     "output_type": "stream",
     "text": [
      "2024-11-02 15:14:29.801445: W tensorflow/core/framework/local_rendezvous.cc:404] Local rendezvous is aborting with status: OUT_OF_RANGE: End of sequence\n"
     ]
    },
    {
     "name": "stdout",
     "output_type": "stream",
     "text": [
      "Epoch 12, Loss: 77.79553985595703\n"
     ]
    },
    {
     "name": "stderr",
     "output_type": "stream",
     "text": [
      "2024-11-02 15:14:30.275737: W tensorflow/core/framework/local_rendezvous.cc:404] Local rendezvous is aborting with status: OUT_OF_RANGE: End of sequence\n"
     ]
    },
    {
     "name": "stdout",
     "output_type": "stream",
     "text": [
      "Epoch 13, Loss: 77.84358215332031\n"
     ]
    },
    {
     "name": "stderr",
     "output_type": "stream",
     "text": [
      "2024-11-02 15:14:30.749298: W tensorflow/core/framework/local_rendezvous.cc:404] Local rendezvous is aborting with status: OUT_OF_RANGE: End of sequence\n"
     ]
    },
    {
     "name": "stdout",
     "output_type": "stream",
     "text": [
      "Epoch 14, Loss: 77.66065216064453\n"
     ]
    },
    {
     "name": "stderr",
     "output_type": "stream",
     "text": [
      "2024-11-02 15:14:31.227681: W tensorflow/core/framework/local_rendezvous.cc:404] Local rendezvous is aborting with status: OUT_OF_RANGE: End of sequence\n"
     ]
    },
    {
     "name": "stdout",
     "output_type": "stream",
     "text": [
      "Epoch 15, Loss: 77.6866683959961\n"
     ]
    },
    {
     "name": "stderr",
     "output_type": "stream",
     "text": [
      "2024-11-02 15:14:31.784338: W tensorflow/core/framework/local_rendezvous.cc:404] Local rendezvous is aborting with status: OUT_OF_RANGE: End of sequence\n"
     ]
    },
    {
     "name": "stdout",
     "output_type": "stream",
     "text": [
      "Epoch 16, Loss: 77.51280975341797\n"
     ]
    },
    {
     "name": "stderr",
     "output_type": "stream",
     "text": [
      "2024-11-02 15:14:32.400525: W tensorflow/core/framework/local_rendezvous.cc:404] Local rendezvous is aborting with status: OUT_OF_RANGE: End of sequence\n"
     ]
    },
    {
     "name": "stdout",
     "output_type": "stream",
     "text": [
      "Epoch 17, Loss: 77.25242614746094\n"
     ]
    },
    {
     "name": "stderr",
     "output_type": "stream",
     "text": [
      "2024-11-02 15:14:32.898542: W tensorflow/core/framework/local_rendezvous.cc:404] Local rendezvous is aborting with status: OUT_OF_RANGE: End of sequence\n"
     ]
    },
    {
     "name": "stdout",
     "output_type": "stream",
     "text": [
      "Epoch 18, Loss: 77.46509552001953\n"
     ]
    },
    {
     "name": "stderr",
     "output_type": "stream",
     "text": [
      "2024-11-02 15:14:33.527143: W tensorflow/core/framework/local_rendezvous.cc:404] Local rendezvous is aborting with status: OUT_OF_RANGE: End of sequence\n"
     ]
    },
    {
     "name": "stdout",
     "output_type": "stream",
     "text": [
      "Epoch 19, Loss: 77.21298217773438\n"
     ]
    },
    {
     "name": "stderr",
     "output_type": "stream",
     "text": [
      "2024-11-02 15:14:34.042498: W tensorflow/core/framework/local_rendezvous.cc:404] Local rendezvous is aborting with status: OUT_OF_RANGE: End of sequence\n"
     ]
    },
    {
     "name": "stdout",
     "output_type": "stream",
     "text": [
      "Epoch 20, Loss: 77.22463989257812\n"
     ]
    },
    {
     "name": "stderr",
     "output_type": "stream",
     "text": [
      "2024-11-02 15:14:34.527545: W tensorflow/core/framework/local_rendezvous.cc:404] Local rendezvous is aborting with status: OUT_OF_RANGE: End of sequence\n"
     ]
    },
    {
     "name": "stdout",
     "output_type": "stream",
     "text": [
      "Epoch 21, Loss: 77.09580993652344\n"
     ]
    },
    {
     "name": "stderr",
     "output_type": "stream",
     "text": [
      "2024-11-02 15:14:35.047772: W tensorflow/core/framework/local_rendezvous.cc:404] Local rendezvous is aborting with status: OUT_OF_RANGE: End of sequence\n"
     ]
    },
    {
     "name": "stdout",
     "output_type": "stream",
     "text": [
      "Epoch 22, Loss: 77.16190338134766\n"
     ]
    },
    {
     "name": "stderr",
     "output_type": "stream",
     "text": [
      "2024-11-02 15:14:35.527700: W tensorflow/core/framework/local_rendezvous.cc:404] Local rendezvous is aborting with status: OUT_OF_RANGE: End of sequence\n"
     ]
    },
    {
     "name": "stdout",
     "output_type": "stream",
     "text": [
      "Epoch 23, Loss: 77.04894256591797\n"
     ]
    },
    {
     "name": "stderr",
     "output_type": "stream",
     "text": [
      "2024-11-02 15:14:36.158521: W tensorflow/core/framework/local_rendezvous.cc:404] Local rendezvous is aborting with status: OUT_OF_RANGE: End of sequence\n"
     ]
    },
    {
     "name": "stdout",
     "output_type": "stream",
     "text": [
      "Epoch 24, Loss: 77.02959442138672\n"
     ]
    },
    {
     "name": "stderr",
     "output_type": "stream",
     "text": [
      "2024-11-02 15:14:36.676462: W tensorflow/core/framework/local_rendezvous.cc:404] Local rendezvous is aborting with status: OUT_OF_RANGE: End of sequence\n"
     ]
    },
    {
     "name": "stdout",
     "output_type": "stream",
     "text": [
      "Epoch 25, Loss: 77.04337310791016\n"
     ]
    },
    {
     "name": "stderr",
     "output_type": "stream",
     "text": [
      "2024-11-02 15:14:37.292511: W tensorflow/core/framework/local_rendezvous.cc:404] Local rendezvous is aborting with status: OUT_OF_RANGE: End of sequence\n"
     ]
    },
    {
     "name": "stdout",
     "output_type": "stream",
     "text": [
      "Epoch 26, Loss: 76.859130859375\n"
     ]
    },
    {
     "name": "stderr",
     "output_type": "stream",
     "text": [
      "2024-11-02 15:14:37.730035: W tensorflow/core/framework/local_rendezvous.cc:404] Local rendezvous is aborting with status: OUT_OF_RANGE: End of sequence\n"
     ]
    },
    {
     "name": "stdout",
     "output_type": "stream",
     "text": [
      "Epoch 27, Loss: 76.69964599609375\n"
     ]
    },
    {
     "name": "stderr",
     "output_type": "stream",
     "text": [
      "2024-11-02 15:14:38.310737: W tensorflow/core/framework/local_rendezvous.cc:404] Local rendezvous is aborting with status: OUT_OF_RANGE: End of sequence\n"
     ]
    },
    {
     "name": "stdout",
     "output_type": "stream",
     "text": [
      "Epoch 28, Loss: 76.78044128417969\n"
     ]
    },
    {
     "name": "stderr",
     "output_type": "stream",
     "text": [
      "2024-11-02 15:14:38.871935: W tensorflow/core/framework/local_rendezvous.cc:404] Local rendezvous is aborting with status: OUT_OF_RANGE: End of sequence\n"
     ]
    },
    {
     "name": "stdout",
     "output_type": "stream",
     "text": [
      "Epoch 29, Loss: 76.45435333251953\n"
     ]
    },
    {
     "name": "stderr",
     "output_type": "stream",
     "text": [
      "2024-11-02 15:14:39.434585: W tensorflow/core/framework/local_rendezvous.cc:404] Local rendezvous is aborting with status: OUT_OF_RANGE: End of sequence\n"
     ]
    },
    {
     "name": "stdout",
     "output_type": "stream",
     "text": [
      "Epoch 30, Loss: 76.36907196044922\n"
     ]
    },
    {
     "name": "stderr",
     "output_type": "stream",
     "text": [
      "2024-11-02 15:14:39.954635: W tensorflow/core/framework/local_rendezvous.cc:404] Local rendezvous is aborting with status: OUT_OF_RANGE: End of sequence\n"
     ]
    },
    {
     "name": "stdout",
     "output_type": "stream",
     "text": [
      "Epoch 31, Loss: 76.61233520507812\n"
     ]
    },
    {
     "name": "stderr",
     "output_type": "stream",
     "text": [
      "2024-11-02 15:14:40.454600: W tensorflow/core/framework/local_rendezvous.cc:404] Local rendezvous is aborting with status: OUT_OF_RANGE: End of sequence\n"
     ]
    },
    {
     "name": "stdout",
     "output_type": "stream",
     "text": [
      "Epoch 32, Loss: 76.44652557373047\n"
     ]
    },
    {
     "name": "stderr",
     "output_type": "stream",
     "text": [
      "2024-11-02 15:14:41.109442: W tensorflow/core/framework/local_rendezvous.cc:404] Local rendezvous is aborting with status: OUT_OF_RANGE: End of sequence\n"
     ]
    },
    {
     "name": "stdout",
     "output_type": "stream",
     "text": [
      "Epoch 33, Loss: 76.42657470703125\n"
     ]
    },
    {
     "name": "stderr",
     "output_type": "stream",
     "text": [
      "2024-11-02 15:14:41.802572: W tensorflow/core/framework/local_rendezvous.cc:404] Local rendezvous is aborting with status: OUT_OF_RANGE: End of sequence\n"
     ]
    },
    {
     "name": "stdout",
     "output_type": "stream",
     "text": [
      "Epoch 34, Loss: 76.24019622802734\n"
     ]
    },
    {
     "name": "stderr",
     "output_type": "stream",
     "text": [
      "2024-11-02 15:14:42.480240: W tensorflow/core/framework/local_rendezvous.cc:404] Local rendezvous is aborting with status: OUT_OF_RANGE: End of sequence\n"
     ]
    },
    {
     "name": "stdout",
     "output_type": "stream",
     "text": [
      "Epoch 35, Loss: 76.20476531982422\n"
     ]
    },
    {
     "name": "stderr",
     "output_type": "stream",
     "text": [
      "2024-11-02 15:14:43.063386: W tensorflow/core/framework/local_rendezvous.cc:404] Local rendezvous is aborting with status: OUT_OF_RANGE: End of sequence\n"
     ]
    },
    {
     "name": "stdout",
     "output_type": "stream",
     "text": [
      "Epoch 36, Loss: 76.3148193359375\n"
     ]
    },
    {
     "name": "stderr",
     "output_type": "stream",
     "text": [
      "2024-11-02 15:14:43.591092: W tensorflow/core/framework/local_rendezvous.cc:404] Local rendezvous is aborting with status: OUT_OF_RANGE: End of sequence\n"
     ]
    },
    {
     "name": "stdout",
     "output_type": "stream",
     "text": [
      "Epoch 37, Loss: 76.03617095947266\n"
     ]
    },
    {
     "name": "stderr",
     "output_type": "stream",
     "text": [
      "2024-11-02 15:14:44.099328: W tensorflow/core/framework/local_rendezvous.cc:404] Local rendezvous is aborting with status: OUT_OF_RANGE: End of sequence\n"
     ]
    },
    {
     "name": "stdout",
     "output_type": "stream",
     "text": [
      "Epoch 38, Loss: 76.21736907958984\n"
     ]
    },
    {
     "name": "stderr",
     "output_type": "stream",
     "text": [
      "2024-11-02 15:14:44.696487: W tensorflow/core/framework/local_rendezvous.cc:404] Local rendezvous is aborting with status: OUT_OF_RANGE: End of sequence\n"
     ]
    },
    {
     "name": "stdout",
     "output_type": "stream",
     "text": [
      "Epoch 39, Loss: 75.95166015625\n"
     ]
    },
    {
     "name": "stderr",
     "output_type": "stream",
     "text": [
      "2024-11-02 15:14:45.325667: W tensorflow/core/framework/local_rendezvous.cc:404] Local rendezvous is aborting with status: OUT_OF_RANGE: End of sequence\n"
     ]
    },
    {
     "name": "stdout",
     "output_type": "stream",
     "text": [
      "Epoch 40, Loss: 75.68743896484375\n"
     ]
    },
    {
     "name": "stderr",
     "output_type": "stream",
     "text": [
      "2024-11-02 15:14:45.919866: W tensorflow/core/framework/local_rendezvous.cc:404] Local rendezvous is aborting with status: OUT_OF_RANGE: End of sequence\n"
     ]
    },
    {
     "name": "stdout",
     "output_type": "stream",
     "text": [
      "Epoch 41, Loss: 75.5962142944336\n"
     ]
    },
    {
     "name": "stderr",
     "output_type": "stream",
     "text": [
      "2024-11-02 15:14:46.439955: W tensorflow/core/framework/local_rendezvous.cc:404] Local rendezvous is aborting with status: OUT_OF_RANGE: End of sequence\n"
     ]
    },
    {
     "name": "stdout",
     "output_type": "stream",
     "text": [
      "Epoch 42, Loss: 75.70231628417969\n"
     ]
    },
    {
     "name": "stderr",
     "output_type": "stream",
     "text": [
      "2024-11-02 15:14:46.931392: W tensorflow/core/framework/local_rendezvous.cc:404] Local rendezvous is aborting with status: OUT_OF_RANGE: End of sequence\n"
     ]
    },
    {
     "name": "stdout",
     "output_type": "stream",
     "text": [
      "Epoch 43, Loss: 75.37411499023438\n"
     ]
    },
    {
     "name": "stderr",
     "output_type": "stream",
     "text": [
      "2024-11-02 15:14:47.411237: W tensorflow/core/framework/local_rendezvous.cc:404] Local rendezvous is aborting with status: OUT_OF_RANGE: End of sequence\n"
     ]
    },
    {
     "name": "stdout",
     "output_type": "stream",
     "text": [
      "Epoch 44, Loss: 75.52224731445312\n"
     ]
    },
    {
     "name": "stderr",
     "output_type": "stream",
     "text": [
      "2024-11-02 15:14:47.984066: W tensorflow/core/framework/local_rendezvous.cc:404] Local rendezvous is aborting with status: OUT_OF_RANGE: End of sequence\n"
     ]
    },
    {
     "name": "stdout",
     "output_type": "stream",
     "text": [
      "Epoch 45, Loss: 75.52293395996094\n"
     ]
    },
    {
     "name": "stderr",
     "output_type": "stream",
     "text": [
      "2024-11-02 15:14:48.496304: W tensorflow/core/framework/local_rendezvous.cc:404] Local rendezvous is aborting with status: OUT_OF_RANGE: End of sequence\n"
     ]
    },
    {
     "name": "stdout",
     "output_type": "stream",
     "text": [
      "Epoch 46, Loss: 75.30244445800781\n"
     ]
    },
    {
     "name": "stderr",
     "output_type": "stream",
     "text": [
      "2024-11-02 15:14:49.105970: W tensorflow/core/framework/local_rendezvous.cc:404] Local rendezvous is aborting with status: OUT_OF_RANGE: End of sequence\n"
     ]
    },
    {
     "name": "stdout",
     "output_type": "stream",
     "text": [
      "Epoch 47, Loss: 75.1897964477539\n"
     ]
    },
    {
     "name": "stderr",
     "output_type": "stream",
     "text": [
      "2024-11-02 15:14:49.652001: W tensorflow/core/framework/local_rendezvous.cc:404] Local rendezvous is aborting with status: OUT_OF_RANGE: End of sequence\n"
     ]
    },
    {
     "name": "stdout",
     "output_type": "stream",
     "text": [
      "Epoch 48, Loss: 75.51582336425781\n"
     ]
    },
    {
     "name": "stderr",
     "output_type": "stream",
     "text": [
      "2024-11-02 15:14:50.133975: W tensorflow/core/framework/local_rendezvous.cc:404] Local rendezvous is aborting with status: OUT_OF_RANGE: End of sequence\n"
     ]
    },
    {
     "name": "stdout",
     "output_type": "stream",
     "text": [
      "Epoch 49, Loss: 75.27853393554688\n"
     ]
    },
    {
     "data": {
      "image/png": "[encoded data removed]",
      "text/plain": [
       "<Figure size 1000x600 with 1 Axes>"
      ]
     },
     "metadata": {},
     "output_type": "display_data"
    }
   ],
   "source": [
    "# Run the MCMC-EM procedure\n",
    "mcmc_em(autoencoder, train_loader,num_epochs=50)"
   ]
  },
  {
   "cell_type": "code",
   "execution_count": 7,
   "id": "7f333c32",
   "metadata": {},
   "outputs": [],
   "source": [
    "\n",
    "#Sending training data through TRAINED encoder to get vectors to visualise latent space\n",
    "latent_vectors = []\n",
    "for testing in dataset:\n",
    "    test_data = testing\n",
    "\n",
    "    test_data = np.reshape(test_data, (1, 32))\n",
    "\n",
    "    encoded_data = autoencoder.encoder(test_data)\n",
    "\n",
    "    latent_vectors.append(encoded_data[0])\n",
    "\n",
    "\n",
    "latent_vectors = np.array(latent_vectors)\n",
    "\n"
   ]
  },
  {
   "cell_type": "code",
   "execution_count": 8,
   "id": "f29ef534",
   "metadata": {},
   "outputs": [
    {
     "data": {
      "image/png": "[encoded data removed]",
      "text/plain": [
       "<Figure size 640x480 with 1 Axes>"
      ]
     },
     "metadata": {},
     "output_type": "display_data"
    },
    {
     "data": {
      "image/png": "[encoded data removed]",
      "text/plain": [
       "<Figure size 640x480 with 1 Axes>"
      ]
     },
     "metadata": {},
     "output_type": "display_data"
    }
   ],
   "source": [
    "plt.scatter(latent_vectors[:, 0], latent_vectors[:, 1])\n",
    "plt.xlabel('Latent Dimension 1')\n",
    "plt.ylabel('Latent Dimension 2')\n",
    "plt.title('Latent Vectors Visualization')\n",
    "plt.show()\n",
    "\n",
    "plt.scatter(latent_vectors[:, 2], latent_vectors[:, 3])\n",
    "plt.xlabel('Latent Dimension 3')\n",
    "plt.ylabel('Latent Dimension 4')\n",
    "plt.title('Latent Vectors Visualization')\n",
    "plt.show()"
   ]
  },
  {
   "cell_type": "code",
   "execution_count": 9,
   "id": "19e1390a",
   "metadata": {},
   "outputs": [],
   "source": [
    "# Function to generate new data using the decoder\n",
    "def generate_new_data(decoder, latent_dim, num_samples):\n",
    "    z_samples = tf.random.normal(shape=(num_samples, latent_dim))  # Sample from the prior distribution\n",
    "    generated_data = decoder(z_samples)\n",
    "#     print(z_samples)\n",
    "    return generated_data.numpy()"
   ]
  },
  {
   "cell_type": "code",
   "execution_count": 14,
   "id": "7f78ed74",
   "metadata": {},
   "outputs": [
    {
     "name": "stdout",
     "output_type": "stream",
     "text": [
      "tf.Tensor([[-1.0000149 -0.1869866 -0.6511309  0.5902724]], shape=(1, 4), dtype=float32)\n",
      "tf.Tensor(\n",
      "[[0.5669158  0.4230118  0.6269203  0.51856595 0.648252   0.5694239\n",
      "  0.52465516 0.43516558 0.41501188 0.56592214 0.538306   0.65385026\n",
      "  0.370468   0.5849295  0.6694172  0.5520542  0.56710154 0.4965305\n",
      "  0.36754414 0.33688402 0.36051625 0.4855571  0.3817715  0.39267305\n",
      "  0.2678915  0.3810772  0.49137717 0.39408106 0.4473078  0.6313852\n",
      "  0.3322208  0.5475397 ]], shape=(1, 32), dtype=float32)\n"
     ]
    }
   ],
   "source": [
    "gen_vec = tf.constant([[-1.0000149, -0.1869866, -0.6511309,  0.5902724]])\n",
    "print(gen_vec)\n",
    "op = autoencoder.decoder(gen_vec)\n",
    "print(op)"
   ]
  },
  {
   "cell_type": "code",
   "execution_count": 22,
   "id": "d04121e4",
   "metadata": {},
   "outputs": [
    {
     "name": "stdout",
     "output_type": "stream",
     "text": [
      "Step on/off:  [0, 0, 1, 1, 1, 1, 0, 0, 0, 1, 1, 1, 0, 1, 1, 1]\n",
      "48-PPQN substeps  [0, 0, -1, -1, -1, -1, -1, -1, -3, -1, 1, 0, -1, 1, -1, 1]\n"
     ]
    }
   ],
   "source": [
    "# Generate new data samples\n",
    "num_samples_to_generate = 1\n",
    "generated_rhythm = generate_new_data(autoencoder.decoder, latent_dim, num_samples_to_generate)\n",
    "\n",
    "# generated_data = autoencoder.decoder(z_samples)\n",
    "\n",
    "# Print the generated data\n",
    "# print(\"Generated Data Samples:\\n\", generated_rhythm)\n",
    "\n",
    "split = np.split(generated_rhythm[0],2)\n",
    "\n",
    "steps = split[0]\n",
    "\n",
    "substeps = split[1]\n",
    "\n",
    "output1 = []\n",
    "output2 = []\n",
    "seq=[]\n",
    "tolerance=0.5\n",
    "for op in steps:\n",
    "    if op > tolerance:\n",
    "        output1.append(1)\n",
    "    else: output1.append(0)\n",
    "        \n",
    "for s in substeps:\n",
    "    op = int(s * (6 - -6) + -6)\n",
    "    output2.append(op)\n",
    "    \n",
    "# print('AE: Raw Generation ',generated_rhythm)\n",
    "print('Step on/off: ',output1)\n",
    "print('48-PPQN substeps ',output2)"
   ]
  },
  {
   "cell_type": "markdown",
   "id": "7e8c0c55",
   "metadata": {},
   "source": [
    "### Technique\n",
    "\n",
    "**MCMC-EM Autoencoders:**\n",
    "\n",
    "- **E-step:** Involves MCMC sampling to draw samples from the posterior distribution of the latent variables given the observed data.\n",
    "- **M-step:** Updates the model parameters by maximizing the expected log-likelihood obtained from the E-step.\n",
    "- **Posterior Sampling:** Uses MCMC methods like Metropolis-Hastings to sample from the posterior distribution, which can be computationally intensive.\n",
    "- **Likelihood Calculation:** Uses exact or approximate likelihood calculations, often involving multiple samples to estimate the expectation.\n",
    "\n",
    "**Variational Autoencoders (VAEs):**\n",
    "\n",
    "- **Encoder (Inference Model):** Uses a neural network to parameterize a variational distribution (usually Gaussian) over the latent variables given the observed data.\n",
    "- **Decoder (Generative Model):** Another neural network reconstructs the data from the sampled latent variables.\n",
    "- **Evidence Lower Bound (ELBO):** Maximizes a lower bound on the log-likelihood of the data, decomposing it into a reconstruction term and a KL-divergence term between the variational distribution and the prior.\n",
    "- **Reparameterization Trick:** Allows backpropagation through the sampling step by reparameterizing the latent variables as a deterministic function of the variational parameters and a random noise.\n",
    "\n",
    "### Level of Stochasticity\n",
    "\n",
    "**MCMC-EM Autoencoders:**\n",
    "\n",
    "- **Stochasticity in E-step:** Introduced through MCMC sampling, where each sample of the latent variables involves a stochastic proposal and acceptance/rejection step.\n",
    "- **Deterministic M-step:** The parameter updates in the M-step are typically deterministic given the samples from the E-step.\n",
    "- **Overall Stochasticity:** Higher due to the nature of MCMC sampling, which involves generating a sequence of samples to approximate the posterior distribution.\n",
    "\n",
    "**Variational Autoencoders (VAEs):**\n",
    "\n",
    "- **Stochastic Encoder:** The encoder outputs parameters of a variational distribution (e.g., mean and variance of a Gaussian), and latent variables are sampled from this distribution.\n",
    "- **Reparameterization Trick:** Introduces controlled stochasticity by expressing the latent variables as a function of the encoder output and random noise.\n",
    "- **Overall Stochasticity:** Controlled and more efficient due to the direct sampling from a parameterized distribution and the reparameterization trick.\n",
    "\n",
    "### Computational Load\n",
    "\n",
    "**MCMC-EM Autoencoders:**\n",
    "\n",
    "- **E-step Computational Load:** High, as it involves running MCMC chains for each data point to obtain posterior samples. This can be computationally expensive, especially with complex models or large datasets.\n",
    "- **M-step Computational Load:** Moderate, involves standard gradient-based optimization but can be repeated multiple times depending on the convergence of the MCMC step.\n",
    "- **Convergence:** Can be slow due to the iterative nature of MCMC, requiring many samples to approximate the posterior accurately.\n",
    "\n",
    "**Variational Autoencoders (VAEs):**\n",
    "\n",
    "- **Encoder and Decoder Computations:** Standard forward passes through neural networks, which are computationally efficient and parallelizable on modern hardware like GPUs.\n",
    "- **KL-divergence Calculation:** Computationally efficient, typically involves simple operations with the output of the encoder.\n",
    "- **Optimization:** Directly optimizes the ELBO using standard gradient-based methods, making it faster and more scalable for large datasets.\n",
    "- **Convergence:** Typically faster due to the direct optimization of the variational objective and the use of efficient stochastic gradient descent methods.\n",
    "\n",
    "### Summary of Comparison\n",
    "\n",
    "| Aspect                 | MCMC-EM Autoencoders                        | Variational Autoencoders (VAEs)            |\n",
    "|------------------------|---------------------------------------------|-------------------------------------------|\n",
    "| **Technique**          | MCMC sampling, iterative EM steps           | Variational inference, direct ELBO maximization |\n",
    "| **Stochasticity**      | High (due to MCMC sampling)                 | Controlled (due to reparameterization trick) |\n",
    "| **Computational Load** | High (due to MCMC chains in E-step)         | Lower (efficient neural network computations) |\n",
    "| **Convergence Speed**  | Slower (requires many MCMC samples)         | Faster (direct optimization of ELBO)      |\n",
    "\n",
    "### Conclusion\n",
    "\n",
    "- **MCMC-EM Autoencoders:** Offer a more rigorous Bayesian approach by explicitly sampling from the posterior distribution, capturing complex dependencies in the latent space. However, this comes at the cost of higher computational load and slower convergence.\n",
    "- **Variational Autoencoders (VAEs):** Provide a more computationally efficient and scalable approach to approximate Bayesian inference. The use of the reparameterization trick and direct optimization of the ELBO make VAEs suitable for large-scale and complex datasets, although they may sometimes provide less accurate posterior approximations compared to MCMC methods.\n",
    "\n",
    "Choosing between these methods depends on the specific requirements of the task, including the desired accuracy of the posterior approximation, available computational resources, and the complexity of the dataset."
   ]
  }
 ],
 "metadata": {
  "kernelspec": {
   "display_name": "Python 3 (ipykernel)",
   "language": "python",
   "name": "python3"
  },
  "language_info": {
   "codemirror_mode": {
    "name": "ipython",
    "version": 3
   },
   "file_extension": ".py",
   "mimetype": "text/x-python",
   "name": "python",
   "nbconvert_exporter": "python",
   "pygments_lexer": "ipython3",
   "version": "3.9.20"
  }
 },
 "nbformat": 4,
 "nbformat_minor": 5
}
