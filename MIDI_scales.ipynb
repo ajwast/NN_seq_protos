{
 "cells": [
  {
   "cell_type": "code",
   "execution_count": 1,
   "id": "01d5e496",
   "metadata": {},
   "outputs": [],
   "source": [
    "import numpy as np\n",
    "import pretty_midi\n",
    "import os\n",
    "import random"
   ]
  },
  {
   "cell_type": "code",
   "execution_count": 2,
   "id": "01c9acd0",
   "metadata": {},
   "outputs": [
    {
     "name": "stdout",
     "output_type": "stream",
     "text": [
      "/Users/alexwastnidge/Documents/Python/C - Scales\n",
      "/Users/alexwastnidge/Documents/Python/C - Scales/C - Enigmatic.mid\n",
      "/Users/alexwastnidge/Documents/Python/C - Scales/C - Diminished.mid\n",
      "/Users/alexwastnidge/Documents/Python/C - Scales/C - Melodic Minor.mid\n",
      "/Users/alexwastnidge/Documents/Python/C - Scales/C - Phrygian.mid\n",
      "/Users/alexwastnidge/Documents/Python/C - Scales/C - Harmonic Minor.mid\n",
      "/Users/alexwastnidge/Documents/Python/C - Scales/C - Ionian.mid\n",
      "/Users/alexwastnidge/Documents/Python/C - Scales/C - Dorian.mid\n",
      "/Users/alexwastnidge/Documents/Python/C - Scales/C - Neapolitan.mid\n",
      "/Users/alexwastnidge/Documents/Python/C - Scales/C - Major Bebop.mid\n",
      "/Users/alexwastnidge/Documents/Python/C - Scales/C - Whole Tone.mid\n",
      "/Users/alexwastnidge/Documents/Python/C - Scales/C - Minor.mid\n",
      "/Users/alexwastnidge/Documents/Python/C - Scales/C - Blues.mid\n",
      "/Users/alexwastnidge/Documents/Python/C - Scales/C - Arabic.mid\n",
      "/Users/alexwastnidge/Documents/Python/C - Scales/C - Lydian.mid\n",
      "/Users/alexwastnidge/Documents/Python/C - Scales/C - Dominant Bebop.mid\n",
      "/Users/alexwastnidge/Documents/Python/C - Scales/C - Pentatonic Major.mid\n",
      "/Users/alexwastnidge/Documents/Python/C - Scales/C - Mixolydian.mid\n",
      "/Users/alexwastnidge/Documents/Python/C - Scales/C - Neapolitan Minor.mid\n",
      "/Users/alexwastnidge/Documents/Python/C - Scales/C - Major.mid\n",
      "/Users/alexwastnidge/Documents/Python/C - Scales/C - Diatonic.mid\n",
      "/Users/alexwastnidge/Documents/Python/C - Scales/C - Japanese Insen.mid\n",
      "/Users/alexwastnidge/Documents/Python/C - Scales/C - Pentatonic Blues.mid\n",
      "/Users/alexwastnidge/Documents/Python/C - Scales/C - Pentatonic Minor.mid\n"
     ]
    }
   ],
   "source": [
    "os.chdir('C - Scales')\n",
    "cd = os.getcwd()\n",
    "filenames = []\n",
    "for (root,dirs,files) in os.walk(cd, topdown=True): \n",
    "    for name in files:\n",
    "          if name.endswith('.'+'mid'):\n",
    "            # print(os.path.join(root, name))\n",
    "            filenames.append(os.path.join(root, name))"
   ]
  },
  {
   "cell_type": "code",
   "execution_count": 3,
   "id": "50ff96b6",
   "metadata": {},
   "outputs": [
    {
     "name": "stdout",
     "output_type": "stream",
     "text": [
      "Number of Scales:  23\n",
      "{'Enigmatic': [0, 1, 4, 6, 8, 10, 11], 'Diminished': [0, 2, 3, 5, 6, 8, 9, 11], 'Melodic Minor': [0, 2, 3, 5, 7, 9, 11], 'Phrygian': [0, 1, 3, 5, 7, 8, 10], 'Harmonic Minor': [0, 2, 3, 5, 7, 8, 11], 'Ionian': [0, 2, 4, 5, 7, 9, 11], 'Dorian': [0, 2, 3, 5, 7, 9, 10], 'Neapolitan': [0, 1, 3, 5, 7, 9, 11], 'Major Bebop': [0, 2, 4, 5, 7, 8, 9, 11], 'Whole Tone': [0, 2, 4, 6, 8, 10], 'Minor': [0, 2, 3, 5, 7, 8, 10], 'Blues': [0, 3, 5, 6, 7, 10], 'Arabic': [0, 1, 4, 5, 7, 8, 11], 'Lydian': [0, 2, 4, 6, 7, 9, 11], 'Dominant Bebop': [0, 2, 4, 5, 7, 9, 10, 11], 'Pentatonic Major': [0, 2, 4, 7, 9], 'Mixolydian': [0, 2, 4, 5, 7, 9, 10], 'Neapolitan Minor': [0, 1, 3, 5, 7, 8, 11], 'Major': [0, 2, 4, 5, 7, 9, 11], 'Diatonic': [0, 2, 4, 7, 9], 'Japanese Insen': [0, 1, 5, 7, 10], 'Pentatonic Blues': [0, 3, 5, 6, 7, 10], 'Pentatonic Minor': [0, 3, 5, 7, 10]}\n"
     ]
    }
   ],
   "source": [
    "#make dictionary for scales and values\n",
    "scales = {}\n",
    "\n",
    "#list to refer to scale names\n",
    "scale_names = []\n",
    "\n",
    "#loop through MIDI files\n",
    "for file in filenames:\n",
    "    pm = pretty_midi.PrettyMIDI(file)\n",
    "    \n",
    "    #make lists for note numbers\n",
    "    note_numbers = []\n",
    "    scale = []\n",
    "    #filter out characters for scale names and append\n",
    "    scale_name = file.replace('/Users/alexwastnidge/Documents/Python/C - Scales/C - ','')\n",
    "    scale_name = scale_name.replace('.mid','')\n",
    "    scale_names.append(scale_name)\n",
    "    \n",
    "    #Loop through MIDI notes and take pitches\n",
    "    for note in pm.instruments[0].notes:\n",
    "        x = note.pitch\n",
    "        note_numbers.append(x)\n",
    "        #modulus by 12 to convert to scale degrees\n",
    "        x = x % 12\n",
    "        scale.append(x)\n",
    "        \n",
    "    #sort note numbers in ascending order\n",
    "    scale.sort()\n",
    "    #Using dictionary to filter out duplicates\n",
    "    scale = list(dict.fromkeys(scale))\n",
    "    \n",
    "    #finally add scale name and scale degrees to dictionary as key-value pair\n",
    "    scales[scale_name] = scale\n",
    "\n",
    "# print('Number of Scales: ', len(scale_names))\n",
    "print(scales)\n",
    "\n"
   ]
  },
  {
   "cell_type": "code",
   "execution_count": 4,
   "id": "16a556cb",
   "metadata": {},
   "outputs": [
    {
     "name": "stdout",
     "output_type": "stream",
     "text": [
      "[0, 3, 5, 7, 10]\n",
      "Pentatonic Major\n",
      "[0, 2, 4, 7, 9]\n"
     ]
    }
   ],
   "source": [
    "# #Get a scale from the dictionary\n",
    "# print(scales[\"Pentatonic Minor\"])\n",
    "\n",
    "# print(scale_names[15])\n",
    "\n",
    "# #Use numeric value to access values\n",
    "# print(scales.get(scale_names[15]))"
   ]
  },
  {
   "cell_type": "code",
   "execution_count": 5,
   "id": "1dabebc3",
   "metadata": {},
   "outputs": [
    {
     "name": "stdout",
     "output_type": "stream",
     "text": [
      "[0, 2, 4, 7, 9]\n",
      "30\n",
      "6\n",
      "7\n",
      "-1\n",
      "31\n"
     ]
    }
   ],
   "source": [
    "# current_scale = scales.get(scale_names[15]) #set current scale\n",
    "# print(current_scale)\n",
    "\n",
    "# generated_num = random.randint(1, 127) #generate a random MIDI note number\n",
    "# print(generated_num)\n",
    "\n",
    "# generated_num_mod = generated_num % 12 #Modulus\n",
    "# print(generated_num_mod)\n",
    "\n",
    "# quantise = min(current_scale, key=lambda x: abs(x - generated_num_mod))\n",
    "# print(quantise)\n",
    "\n",
    "# difference = generated_num_mod - quantise\n",
    "# print(difference)\n",
    "\n",
    "# output = generated_num - difference\n",
    "# print(output)"
   ]
  },
  {
   "cell_type": "code",
   "execution_count": 6,
   "id": "ba3b5ff3",
   "metadata": {},
   "outputs": [],
   "source": [
    "def quantiser(note_number,scale):\n",
    "    current_scale = scale\n",
    "    num_mod = note_number % 12\n",
    "    quantise = min(current_scale, key=lambda x: abs(x - num_mod))\n",
    "    difference = num_mod - quantise\n",
    "    output = note_number - difference\n",
    "    return output"
   ]
  },
  {
   "cell_type": "code",
   "execution_count": 8,
   "id": "3a454bc2",
   "metadata": {},
   "outputs": [
    {
     "name": "stdout",
     "output_type": "stream",
     "text": [
      "81\n",
      "Mixolydian\n",
      "81\n"
     ]
    }
   ],
   "source": [
    "# generated_num = random.randint(1, 127) #generate a random MIDI note number\n",
    "# print(generated_num)\n",
    "\n",
    "# scale_ref = random.randint(1,len(scale_names)-1)\n",
    "# print(scale_names[scale_ref])\n",
    "\n",
    "# quantised_num = quantiser(generated_num,scales.get(scale_names[scale_ref]))\n",
    "\n",
    "# print(quantised_num)"
   ]
  },
  {
   "cell_type": "code",
   "execution_count": 7,
   "id": "b1ad20d3-f988-4067-8a36-55a777ca6133",
   "metadata": {},
   "outputs": [],
   "source": []
  }
 ],
 "metadata": {
  "kernelspec": {
   "display_name": "Python 3 (ipykernel)",
   "language": "python",
   "name": "python3"
  },
  "language_info": {
   "codemirror_mode": {
    "name": "ipython",
    "version": 3
   },
   "file_extension": ".py",
   "mimetype": "text/x-python",
   "name": "python",
   "nbconvert_exporter": "python",
   "pygments_lexer": "ipython3",
   "version": "3.9.20"
  }
 },
 "nbformat": 4,
 "nbformat_minor": 5
}
