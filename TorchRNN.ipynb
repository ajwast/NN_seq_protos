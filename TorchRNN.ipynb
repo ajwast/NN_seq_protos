{
 "cells": [
  {
   "cell_type": "code",
   "execution_count": 16,
   "id": "492ba91c-251a-4cb6-a89b-de37437524b9",
   "metadata": {},
   "outputs": [],
   "source": [
    "import numpy as np\n",
    "import torch\n",
    "import torch.nn as nn\n",
    "import torch.optim as optim\n",
    "import pandas as pd\n",
    "from torch.utils.data import DataLoader, TensorDataset\n",
    "import torchaudio\n",
    "import aubio\n",
    "import os\n",
    "import matplotlib.pyplot as plt\n"
   ]
  },
  {
   "cell_type": "code",
   "execution_count": 17,
   "id": "a865cdeb-c5ea-40c8-a662-d2e29b9dd65f",
   "metadata": {},
   "outputs": [
    {
     "name": "stdout",
     "output_type": "stream",
     "text": [
      "{'Enigmatic': [0, 1, 4, 6, 8, 10, 11], 'Diminished': [0, 2, 3, 5, 6, 8, 9, 11], 'Melodic Minor': [0, 2, 3, 5, 7, 9, 11], 'Phrygian': [0, 1, 3, 5, 7, 8, 10], 'Harmonic Minor': [0, 2, 3, 5, 7, 8, 11], 'Ionian': [0, 2, 4, 5, 7, 9, 11], 'Dorian': [0, 2, 3, 5, 7, 9, 10], 'Neapolitan': [0, 1, 3, 5, 7, 9, 11], 'Major Bebop': [0, 2, 4, 5, 7, 8, 9, 11], 'Whole Tone': [0, 2, 4, 6, 8, 10], 'Minor': [0, 2, 3, 5, 7, 8, 10], 'Blues': [0, 3, 5, 6, 7, 10], 'Arabic': [0, 1, 4, 5, 7, 8, 11], 'Lydian': [0, 2, 4, 6, 7, 9, 11], 'Dominant Bebop': [0, 2, 4, 5, 7, 9, 10, 11], 'Pentatonic Major': [0, 2, 4, 7, 9], 'Mixolydian': [0, 2, 4, 5, 7, 9, 10], 'Neapolitan Minor': [0, 1, 3, 5, 7, 8, 11], 'Major': [0, 2, 4, 5, 7, 9, 11], 'Diatonic': [0, 2, 4, 7, 9], 'Japanese Insen': [0, 1, 5, 7, 10], 'Pentatonic Blues': [0, 3, 5, 6, 7, 10], 'Pentatonic Minor': [0, 3, 5, 7, 10]}\n"
     ]
    }
   ],
   "source": [
    "%run MIDI_scales.ipynb"
   ]
  },
  {
   "cell_type": "code",
   "execution_count": 18,
   "id": "ec1bba95-8dae-4fc2-888b-19f33b58c0fd",
   "metadata": {},
   "outputs": [],
   "source": [
    "os.chdir('../ML Corpus 2/')\n",
    "cd = os.getcwd()      \n",
    "\n",
    "\n",
    "filenames = []\n",
    "\n",
    "for (root,dirs,files) in os.walk(cd, topdown=True): \n",
    "    for name in files:\n",
    "          if name.endswith('.'+'wav'):\n",
    "            filenames.append(os.path.join(root, name))"
   ]
  },
  {
   "cell_type": "code",
   "execution_count": 19,
   "id": "7dea9848-688b-4869-9468-6dd7ef33e33e",
   "metadata": {},
   "outputs": [],
   "source": [
    "def audio_One_Hot(filenames, seq_len=16):\n",
    "    \"\"\"\n",
    "    Extract MIDI notes from audio files and prepare one-hot encoded sequences for RNN training.\n",
    "\n",
    "    Args:\n",
    "        filenames (list): List of audio file paths.\n",
    "        seq_len (int): Sequence length for training data.\n",
    "\n",
    "    Returns:\n",
    "        torch.Tensor: Input sequences (X), shape (num_sequences, seq_len, 127).\n",
    "        torch.Tensor: Target sequences (y), shape (num_sequences, seq_len).\n",
    "    \"\"\"\n",
    "    downsample = 1\n",
    "    samplerate = 44100 // downsample\n",
    "    win_s = 512 // downsample  # FFT size\n",
    "    hop_s = 256 // downsample  # Hop size\n",
    "    notes = []\n",
    "\n",
    "    for file in filenames:\n",
    "        # Load audio file\n",
    "        s = aubio.source(file, samplerate, hop_s)\n",
    "        samplerate = s.samplerate\n",
    "\n",
    "        notes_o = aubio.notes(\"default\", win_s, hop_s, samplerate)\n",
    "\n",
    "        # Extract MIDI notes\n",
    "        while True:\n",
    "            samples, read = s()\n",
    "            new_note = notes_o(samples)\n",
    "            if new_note[0] != 0:  # Only consider non-zero notes\n",
    "                notes.append(int(new_note[0]))  # Append MIDI note as an integer\n",
    "            if read < hop_s:\n",
    "                break\n",
    "    print(\"MIDI range:\", min(notes),\"-\", max(notes))\n",
    "    # Prepare sequences\n",
    "    X, y = [], []\n",
    "    for i in range(0, len(notes) - seq_len):\n",
    "        input_seq = notes[i:i + seq_len]\n",
    "        target_seq = notes[i + 1:i + seq_len + 1]\n",
    "\n",
    "        # One-hot encode input sequence\n",
    "        input_one_hot = torch.zeros(seq_len, 127)\n",
    "        for t, note in enumerate(input_seq):\n",
    "            input_one_hot[t, note] = 1  # One-hot encode the note\n",
    "\n",
    "        X.append(input_one_hot)\n",
    "        y.append(torch.tensor(target_seq))  # Targets are class indices\n",
    "\n",
    "    X = torch.stack(X)  # Shape: (num_sequences, seq_len, 127)\n",
    "    y = torch.stack(y)  # Shape: (num_sequences, seq_len)\n",
    "\n",
    "    return X, y"
   ]
  },
  {
   "cell_type": "code",
   "execution_count": 20,
   "id": "9b6db978-c4b6-4ef4-a4cb-7820985dae26",
   "metadata": {},
   "outputs": [
    {
     "name": "stdout",
     "output_type": "stream",
     "text": [
      "MIDI range: 46 - 117\n",
      "torch.Size([3457, 16, 127]) torch.Size([3457, 16])\n"
     ]
    }
   ],
   "source": [
    "X, y = audio_One_Hot(filenames)\n",
    "print(X.shape, y.shape)"
   ]
  },
  {
   "cell_type": "code",
   "execution_count": 21,
   "id": "f93f5229-fc28-4195-9ea7-57155249f3b8",
   "metadata": {},
   "outputs": [],
   "source": [
    "class SimpleRNN(nn.Module):\n",
    "    def __init__(self, input_size, hidden_size, output_size):\n",
    "        super(SimpleRNN, self).__init__()\n",
    "        self.rnn = nn.RNN(input_size, hidden_size, batch_first=True)\n",
    "        self.fc = nn.Linear(hidden_size, output_size)\n",
    "    \n",
    "    def forward(self, x):\n",
    "        h0 = torch.zeros(1, x.size(0), hidden_size).to(x.device)  # Initial hidden state\n",
    "        out, _ = self.rnn(x, h0)\n",
    "        out = self.fc(out)  # Output shape: (batch_size, seq_len, output_size)\n",
    "        return out\n",
    "\n",
    "input_size = 127\n",
    "hidden_size = 20\n",
    "output_size = 127\n",
    "model = SimpleRNN(input_size, hidden_size, output_size)"
   ]
  },
  {
   "cell_type": "code",
   "execution_count": 22,
   "id": "3e6b8114-2232-4bbd-afa3-7cf4ba79c492",
   "metadata": {},
   "outputs": [
    {
     "name": "stdout",
     "output_type": "stream",
     "text": [
      "Epoch [10/500], Loss: 4.7745\n",
      "Epoch [20/500], Loss: 4.6802\n",
      "Epoch [30/500], Loss: 4.5417\n",
      "Epoch [40/500], Loss: 4.3555\n",
      "Epoch [50/500], Loss: 4.1701\n",
      "Epoch [60/500], Loss: 4.0273\n",
      "Epoch [70/500], Loss: 3.9301\n",
      "Epoch [80/500], Loss: 3.8638\n",
      "Epoch [90/500], Loss: 3.8173\n",
      "Epoch [100/500], Loss: 3.7845\n",
      "Epoch [110/500], Loss: 3.7604\n",
      "Epoch [120/500], Loss: 3.7417\n",
      "Epoch [130/500], Loss: 3.7260\n",
      "Epoch [140/500], Loss: 3.7120\n",
      "Epoch [150/500], Loss: 3.6990\n",
      "Epoch [160/500], Loss: 3.6863\n",
      "Epoch [170/500], Loss: 3.6735\n",
      "Epoch [180/500], Loss: 3.6603\n",
      "Epoch [190/500], Loss: 3.6460\n",
      "Epoch [200/500], Loss: 3.6306\n",
      "Epoch [210/500], Loss: 3.6151\n",
      "Epoch [220/500], Loss: 3.6002\n",
      "Epoch [230/500], Loss: 3.5859\n",
      "Epoch [240/500], Loss: 3.5716\n",
      "Epoch [250/500], Loss: 3.5559\n",
      "Epoch [260/500], Loss: 3.5379\n",
      "Epoch [270/500], Loss: 3.5182\n",
      "Epoch [280/500], Loss: 3.4981\n",
      "Epoch [290/500], Loss: 3.4774\n",
      "Epoch [300/500], Loss: 3.4563\n",
      "Epoch [310/500], Loss: 3.4348\n",
      "Epoch [320/500], Loss: 3.4126\n",
      "Epoch [330/500], Loss: 3.3895\n",
      "Epoch [340/500], Loss: 3.3656\n",
      "Epoch [350/500], Loss: 3.3407\n",
      "Epoch [360/500], Loss: 3.3150\n",
      "Epoch [370/500], Loss: 3.2886\n",
      "Epoch [380/500], Loss: 3.2621\n",
      "Epoch [390/500], Loss: 3.2362\n",
      "Epoch [400/500], Loss: 3.2112\n",
      "Epoch [410/500], Loss: 3.1867\n",
      "Epoch [420/500], Loss: 3.1623\n",
      "Epoch [430/500], Loss: 3.1380\n",
      "Epoch [440/500], Loss: 3.1138\n",
      "Epoch [450/500], Loss: 3.0895\n",
      "Epoch [460/500], Loss: 3.0654\n",
      "Epoch [470/500], Loss: 3.0416\n",
      "Epoch [480/500], Loss: 3.0183\n",
      "Epoch [490/500], Loss: 2.9956\n",
      "Epoch [500/500], Loss: 2.9736\n"
     ]
    }
   ],
   "source": [
    "# Loss and optimizer\n",
    "criterion = nn.CrossEntropyLoss() \n",
    "optimizer = optim.Adam(model.parameters(), lr=0.001)\n",
    "\n",
    "# Training loop\n",
    "num_epochs = 500\n",
    "losses = []\n",
    "for epoch in range(num_epochs):\n",
    "    model.train()\n",
    "    \n",
    "    # Forward pass\n",
    "    outputs = model(X)  # Shape: (batch_size, seq_len, output_size)\n",
    "    outputs = outputs.transpose(1, 2)  # Shape: (batch_size, output_size, seq_len) for CrossEntropyLoss\n",
    "    loss = criterion(outputs, y)  # Targets (y) are shape (batch_size, seq_len)\n",
    "\n",
    "    # Backward pass and optimization\n",
    "    optimizer.zero_grad()\n",
    "    loss.backward()\n",
    "    optimizer.step()\n",
    "    losses.append(loss.item())\n",
    "\n",
    "    if (epoch + 1) % 10 == 0:\n",
    "        print(f'Epoch [{epoch+1}/{num_epochs}], Loss: {loss.item():.4f}')"
   ]
  },
  {
   "cell_type": "code",
   "execution_count": 23,
   "id": "4a9f4d4b-d69e-4c7b-80c6-f8d4c8ae7108",
   "metadata": {},
   "outputs": [
    {
     "data": {
      "image/png": "[encoded data removed]",
      "text/plain": [
       "<Figure size 640x480 with 1 Axes>"
      ]
     },
     "metadata": {},
     "output_type": "display_data"
    }
   ],
   "source": [
    "plt.plot(losses)\n",
    "plt.show()"
   ]
  },
  {
   "cell_type": "code",
   "execution_count": 24,
   "id": "751e61a6-9dee-419a-95c2-257fb024787e",
   "metadata": {},
   "outputs": [],
   "source": [
    "def generate_note_sequence(model, start_sequence, length, temperature=1.0, device=\"cpu\"):\n",
    "    \"\"\"\n",
    "    Generates a new MIDI note sequence using a trained RNN with stochastic sampling.\n",
    "\n",
    "    Args:\n",
    "        model (nn.Module): Trained RNN model.\n",
    "        start_sequence (list): List of initial MIDI notes to start generation.\n",
    "        length (int): Total length of the sequence to generate.\n",
    "        temperature (float): Temperature for softmax scaling (controls randomness).\n",
    "        device (str): Device to run the model on (\"cpu\" or \"cuda\").\n",
    "\n",
    "    Returns:\n",
    "        list: Generated MIDI note sequence.\n",
    "    \"\"\"\n",
    "    model.eval()  # Set the model to evaluation mode\n",
    "\n",
    "    # One-hot encode the start sequence\n",
    "    seq_len = len(start_sequence)\n",
    "    input_seq = torch.zeros(1, seq_len, 127).to(device)  # Shape: (batch_size=1, seq_len, input_size)\n",
    "    for t, note in enumerate(start_sequence):\n",
    "        input_seq[0, t, note] = 1\n",
    "\n",
    "    # Initialize the generated sequence with the start sequence\n",
    "    generated_sequence = start_sequence[:]\n",
    "\n",
    "    with torch.no_grad():\n",
    "        for _ in range(length):\n",
    "            # Pass the current input sequence to the model\n",
    "            output = model(input_seq)  # Shape: (1, seq_len, 127)\n",
    "\n",
    "            # Get the last time step's output (logits for next note)\n",
    "            logits = output[0, -1]  # Shape: (127,)\n",
    "\n",
    "            # Apply temperature scaling to logits\n",
    "            scaled_logits = logits / temperature\n",
    "\n",
    "            # Convert logits to probabilities using softmax\n",
    "            probabilities = torch.softmax(scaled_logits, dim=0)\n",
    "\n",
    "            # Sample the next note using a multinomial distribution\n",
    "            next_note = torch.multinomial(probabilities, num_samples=1).item()\n",
    "\n",
    "            # Append the predicted note to the generated sequence\n",
    "            generated_sequence.append(next_note)\n",
    "\n",
    "            # Update the input sequence with the new note\n",
    "            new_one_hot = torch.zeros(1, 1, 127).to(device)\n",
    "            new_one_hot[0, 0, next_note] = 1\n",
    "            input_seq = torch.cat((input_seq[:, 1:, :], new_one_hot), dim=1)  # Slide window\n",
    "\n",
    "    return generated_sequence\n"
   ]
  },
  {
   "cell_type": "code",
   "execution_count": 80,
   "id": "f05d903d-c9fa-4b15-a9ff-6fb1801e1582",
   "metadata": {},
   "outputs": [
    {
     "name": "stdout",
     "output_type": "stream",
     "text": [
      "Generated MIDI Sequence: [41, 84, 55, 61, 53, 47, 51, 101, 113, 67, 69, 61, 61, 49, 51, 47, 48]\n"
     ]
    }
   ],
   "source": [
    "# Define your initial MIDI note sequence (e.g., a short melody or random notes)\n",
    "start_sequence = [42]\n",
    "\n",
    "# Generate a new sequence\n",
    "generated_sequence = generate_note_sequence(\n",
    "    model=model,               \n",
    "    start_sequence=start_sequence,\n",
    "    length=16,                 \n",
    "    temperature=0.8,\n",
    "    device=\"cpu\"               \n",
    ")\n",
    "for i, note in enumerate(generated_sequence):\n",
    "    generated_sequence[i] = quantiser(note,scales.get('Neapolitan'))\n",
    "\n",
    "print(\"Generated MIDI Sequence:\", generated_sequence)\n",
    "client.send_message('/sequence', generated_sequence)"
   ]
  },
  {
   "cell_type": "code",
   "execution_count": 30,
   "id": "de67f544-acd3-48b4-8889-f0d0912a893c",
   "metadata": {},
   "outputs": [],
   "source": [
    "from pythonosc import dispatcher\n",
    "from pythonosc import udp_client\n",
    "from pythonosc import osc_server"
   ]
  },
  {
   "cell_type": "code",
   "execution_count": 31,
   "id": "ca8e8148-f6ed-4a75-90d3-5e13d455e9b8",
   "metadata": {},
   "outputs": [],
   "source": [
    "client = udp_client.SimpleUDPClient('127.0.0.1', 8002)"
   ]
  },
  {
   "cell_type": "code",
   "execution_count": 37,
   "id": "e00f0604-083c-47f0-96ed-779e2f97fbd7",
   "metadata": {},
   "outputs": [],
   "source": [
    "client.send_message('/sequence', generated_sequence)"
   ]
  },
  {
   "cell_type": "code",
   "execution_count": 15,
   "id": "29247e40-0c5c-4769-8c13-760106ff1589",
   "metadata": {},
   "outputs": [
    {
     "ename": "AttributeError",
     "evalue": "'_cython_3_0_5.cython_function_or_method' object has no attribute '_check_port'",
     "output_type": "error",
     "traceback": [
      "\u001b[0;31m---------------------------------------------------------------------------\u001b[0m",
      "\u001b[0;31mAttributeError\u001b[0m                            Traceback (most recent call last)",
      "Cell \u001b[0;32mIn[15], line 3\u001b[0m\n\u001b[1;32m      1\u001b[0m midiIn \u001b[38;5;241m=\u001b[39m rtmidi\u001b[38;5;241m.\u001b[39mMidiIn\n\u001b[0;32m----> 3\u001b[0m \u001b[43mmidiIn\u001b[49m\u001b[38;5;241;43m.\u001b[39;49m\u001b[43mopen_port\u001b[49m\u001b[43m(\u001b[49m\u001b[43mmidiIn\u001b[49m\u001b[38;5;241;43m.\u001b[39;49m\u001b[43mget_ports\u001b[49m\u001b[43m)\u001b[49m\n",
      "File \u001b[0;32m_rtmidi.pyx:576\u001b[0m, in \u001b[0;36m_rtmidi.MidiBase.open_port\u001b[0;34m()\u001b[0m\n",
      "\u001b[0;31mAttributeError\u001b[0m: '_cython_3_0_5.cython_function_or_method' object has no attribute '_check_port'"
     ]
    }
   ],
   "source": []
  }
 ],
 "metadata": {
  "kernelspec": {
   "display_name": "Python 3 (ipykernel)",
   "language": "python",
   "name": "python3"
  },
  "language_info": {
   "codemirror_mode": {
    "name": "ipython",
    "version": 3
   },
   "file_extension": ".py",
   "mimetype": "text/x-python",
   "name": "python",
   "nbconvert_exporter": "python",
   "pygments_lexer": "ipython3",
   "version": "3.9.20"
  }
 },
 "nbformat": 4,
 "nbformat_minor": 5
}
